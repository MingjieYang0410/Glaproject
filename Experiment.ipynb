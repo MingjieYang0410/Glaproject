{
 "cells": [
  {
   "cell_type": "code",
   "execution_count": 1,
   "id": "eaecef3f",
   "metadata": {},
   "outputs": [
    {
     "name": "stdout",
     "output_type": "stream",
     "text": [
      "embedding size is 16, max sequence length is 100\n",
      "Data is already, start training...\n",
      "start !!!!!!\n",
      "start !!!!!!\n"
     ]
    }
   ],
   "source": [
    "import time\n",
    "from tensorflow.keras.optimizers import Adam\n",
    "from tensorflow.keras.callbacks import EarlyStopping\n",
    "from tensorflow.keras.metrics import AUC\n",
    "import numpy as np\n",
    "from sklearn import metrics\n",
    "from model import DIN, DIEN, BaseModel,  LR\n",
    "from prepare_data import *\n",
    "from data_iterator import *\n",
    "import os\n",
    "import tensorflow as tf\n",
    "import datetime\n",
    "def setup_seed(seed):\n",
    "    random.seed(seed) \n",
    "    np.random.seed(seed) \n",
    "    tf.random.set_seed(seed)  # tf cpu fix seed\n",
    "    os.environ['TF_DETERMINISTIC_OPS'] = '1'  # tf gpu fix seed, please `pip install tensorflow-determinism` first\n",
    "setup_seed(16)\n",
    "# ========================= File Paths =======================\n",
    "current_time = datetime.datetime.now().strftime(\"%Y%m%d-%H%M%S\")\n",
    "train_log_dir = 'logs/test/' + current_time + '/train'\n",
    "summary_writer = tf.summary.create_file_writer(train_log_dir)\n",
    "mode_save_path = \"./saved_model\"\n",
    "# ========================= Training Setting =======================\n",
    "func_span = 100   # How many iteration to call functions\n",
    "global_best_auc = -1  # Keep to -1\n",
    "global_patients = 0  # Keep to 0\n",
    "epochs = 100\n",
    "mode = 'normal' # 'normal', 'crossvalidation'\n",
    "# ========================= Hyper Parameters =======================\n",
    "maxlen = 100  #100\n",
    "embed_dim = 16 # to make life easier all sparse features have same embedding dim 16\n",
    "att_hidden_units = [160, 80, 40]  # FFN for Attention Layer\n",
    "ffn_hidden_units = [256, 128, 64] # FFN for final output\n",
    "dnn_dropout = 0.5 # Need to ensure this\n",
    "att_activation = 'sigmoid'\n",
    "ffn_activation = 'prelu' #prelu\n",
    "train_batch_size = 128  # 128\n",
    "test_val_batch_size = 2048\n",
    "learning_rate = 0.001\n",
    "l2_weight = 0.0001\n",
    "weight_auxiliary = 0.1\n",
    "# ========================== Create dataset =======================\n",
    "feature_columns, train, dev, test = process_data(embed_dim, maxlen)\n",
    "train_X, train_y = train\n",
    "dev_X, dev_y = dev\n",
    "test_X, test_y = test\n",
    "dev_data_all = get_dataloader(test_val_batch_size, dev_X, dev_y)\n",
    "test_data_all = get_dataloader(test_val_batch_size, test_X, test_y)\n",
    "num_instance = len(train_X[0])"
   ]
  },
  {
   "cell_type": "code",
   "execution_count": 2,
   "id": "103e7142",
   "metadata": {},
   "outputs": [
    {
     "name": "stdout",
     "output_type": "stream",
     "text": [
      "embedding size is 16, max sequence length is 100\n",
      "Data is already, start training...\n",
      "start !!!!!!\n",
      "start !!!!!!\n"
     ]
    }
   ],
   "source": [
    "feature_columns, train, dev, test = process_data(embed_dim, maxlen)\n",
    "train_X, train_y = train\n",
    "dev_X, dev_y = dev\n",
    "test_X, test_y = test\n",
    "dev_data_all = get_dataloader(test_val_batch_size, dev_X, dev_y)\n",
    "test_data_all = get_dataloader(test_val_batch_size, test_X, test_y)\n",
    "num_instance = len(train_X[0])"
   ]
  },
  {
   "cell_type": "code",
   "execution_count": 3,
   "id": "8c589fa3",
   "metadata": {},
   "outputs": [],
   "source": [
    "DIN = DIN(feature_columns, att_hidden_units, ffn_hidden_units, att_activation,ffn_activation, maxlen, dnn_dropout)\n",
    "DIEN = DIEN(feature_columns, att_hidden_units, ffn_hidden_units, att_activation,ffn_activation, maxlen, dnn_dropout,  embed_dim=embed_dim)\n",
    "BaseModel = BaseModel(feature_columns, att_hidden_units, ffn_hidden_units, att_activation,ffn_activation, maxlen, dnn_dropout,  embed_dim=embed_dim)\n",
    "LR = LR(feature_columns, att_hidden_units, ffn_hidden_units, att_activation,ffn_activation, maxlen, dnn_dropout,  embed_dim=embed_dim)"
   ]
  },
  {
   "cell_type": "code",
   "execution_count": 4,
   "id": "cb2089a6",
   "metadata": {},
   "outputs": [
    {
     "data": {
      "text/plain": [
       "<tensorflow.python.training.tracking.util.CheckpointLoadStatus at 0x1a11f0f8208>"
      ]
     },
     "execution_count": 4,
     "metadata": {},
     "output_type": "execute_result"
    }
   ],
   "source": [
    "BaseModel.load_weights(\"./saved_weights/BaseModel/BaseModel_0.8693436574002537.ckpt\")\n",
    "DIN.load_weights(\"./saved_weights/DIN/DIN_0.8892130669036009.ckpt\")\n",
    "LR.load_weights(\"./saved_weights/LR/LR_0.8079523807697784.ckpt\")\n",
    "DIEN.load_weights(\"./saved_weights/DIEN/DIEN_0.8945942317932614.ckpt\")"
   ]
  },
  {
   "cell_type": "code",
   "execution_count": null,
   "id": "6763978b",
   "metadata": {},
   "outputs": [],
   "source": []
  },
  {
   "cell_type": "code",
   "execution_count": 5,
   "id": "3de3b521",
   "metadata": {},
   "outputs": [],
   "source": [
    "def get_results(test_data_all, model, is_dien=False, is_din=False):\n",
    "    global global_best_auc\n",
    "    outputs = []\n",
    "    labels = []\n",
    "    for step, (mini_batch, label) in enumerate(test_data_all, start=1):\n",
    "        if is_dien:\n",
    "            l1, l2 = [], []\n",
    "            output, logits, auxiliary_loss = model(mini_batch, l1, l2)\n",
    "        elif is_din:\n",
    "            l1 = []\n",
    "            output, logits = model(mini_batch, l1)\n",
    "        else:\n",
    "            output, logits = model(mini_batch)\n",
    "        outputs.append(output)\n",
    "        labels.append(label)\n",
    "    prob = tf.concat(outputs, 0)[:, 0]\n",
    "    true = tf.concat(labels, 0)[:, 0]\n",
    "    fpr, tpr, thresholds = metrics.roc_curve(true, prob, pos_label=1)\n",
    "    auc = metrics.auc(fpr, tpr)\n",
    "    return prob, true\n",
    "\n",
    "def get_evaluation(prob, true):\n",
    "    fpr, tpr, thresholds = metrics.roc_curve(true, prob, pos_label=1)\n",
    "    auc = metrics.auc(fpr, tpr)\n",
    "    precisions, recalls, thresholds = metrics.precision_recall_curve(true, prob, pos_label=1)\n",
    "    f1_scores = (2 * precisions * recalls) / (precisions + recalls)\n",
    "    best_f1_score = np.max(f1_scores[np.isfinite(f1_scores)])\n",
    "    best_f1_score_index = np.argmax(f1_scores[np.isfinite(f1_scores)])\n",
    "    recall = recalls[best_f1_score_index]\n",
    "    precision = precisions[best_f1_score_index]\n",
    "    F1 = f1_scores[best_f1_score_index]\n",
    "    return recall, precision, F1, auc\n",
    "\n",
    "def print_scores(prob, true):\n",
    "    recall, precision, F1, auc = get_evaluation(prob, true)\n",
    "    print(f\"Recall: {recall}, precision : {precision}, F1 : {F1}, AUC: {auc}\")\n",
    "    \n",
    "def print_relapro(auc):\n",
    "    base_auc = 0.8677\n",
    "    res = ((auc- 0.5)/(base_auc - 0.5)) - 1\n",
    "    print(res)"
   ]
  },
  {
   "cell_type": "code",
   "execution_count": 6,
   "id": "3e89089b",
   "metadata": {},
   "outputs": [
    {
     "name": "stdout",
     "output_type": "stream",
     "text": [
      "WARNING:tensorflow:Layer dien is casting an input tensor from dtype float64 to the layer's dtype of float32, which is new behavior in TensorFlow 2.  The layer has dtype float32 because its dtype defaults to floatx.\n",
      "\n",
      "If you intended to run this layer in float32, you can safely ignore this warning. If in doubt, this warning is likely only an issue if you are porting a TensorFlow 1.X model to TensorFlow 2.\n",
      "\n",
      "To change all layers to have dtype float64 by default, call `tf.keras.backend.set_floatx('float64')`. To change just this layer, pass dtype='float64' to the layer constructor. If you are the author of this layer, you can disable autocasting by passing autocast=False to the base Layer constructor.\n",
      "\n",
      "WARNING:tensorflow:Layer din is casting an input tensor from dtype float64 to the layer's dtype of float32, which is new behavior in TensorFlow 2.  The layer has dtype float32 because its dtype defaults to floatx.\n",
      "\n",
      "If you intended to run this layer in float32, you can safely ignore this warning. If in doubt, this warning is likely only an issue if you are porting a TensorFlow 1.X model to TensorFlow 2.\n",
      "\n",
      "To change all layers to have dtype float64 by default, call `tf.keras.backend.set_floatx('float64')`. To change just this layer, pass dtype='float64' to the layer constructor. If you are the author of this layer, you can disable autocasting by passing autocast=False to the base Layer constructor.\n",
      "\n"
     ]
    }
   ],
   "source": [
    "prob1, true1 = get_results(test_data_all, DIEN, is_dien=True)\n",
    "prob2, true2 = get_results(test_data_all, DIN, is_din=True)"
   ]
  },
  {
   "cell_type": "code",
   "execution_count": 7,
   "id": "88bb4798",
   "metadata": {},
   "outputs": [],
   "source": [
    "a = load_data('./results/glob_list_din')\n",
    "b = load_data('./results/glob_list_dien')"
   ]
  },
  {
   "cell_type": "code",
   "execution_count": 9,
   "id": "838d6afb",
   "metadata": {},
   "outputs": [
    {
     "data": {
      "text/plain": [
       "'\\ncom1 = []\\nfor item in a.values():\\n    com1.append(item[1])\\ncom2 = []\\nfor item in b.values():\\n    com2.append(item[1])\\ncom1\\nfrom scipy import stats\\nimport numpy as np\\n\\nstats.ttest_ind(c,d)\\nprob, true = get_results(test_data_all, BaseModel, is_dien=False)\\n\\nprint_scores(prob, true)\\nprint_relapro(0.8938)\\n'"
      ]
     },
     "execution_count": 9,
     "metadata": {},
     "output_type": "execute_result"
    }
   ],
   "source": [
    "'''\n",
    "com1 = []\n",
    "for item in a.values():\n",
    "    com1.append(item[1])\n",
    "com2 = []\n",
    "for item in b.values():\n",
    "    com2.append(item[1])\n",
    "com1\n",
    "from scipy import stats\n",
    "import numpy as np\n",
    "\n",
    "stats.ttest_ind(c,d)\n",
    "prob, true = get_results(test_data_all, BaseModel, is_dien=False)\n",
    "\n",
    "print_scores(prob, true)\n",
    "print_relapro(0.8938)\n",
    "'''\n"
   ]
  },
  {
   "cell_type": "code",
   "execution_count": null,
   "id": "58e49e54",
   "metadata": {},
   "outputs": [],
   "source": []
  },
  {
   "cell_type": "code",
   "execution_count": null,
   "id": "881451d0",
   "metadata": {},
   "outputs": [],
   "source": []
  },
  {
   "cell_type": "code",
   "execution_count": 10,
   "id": "c1aaf62d",
   "metadata": {},
   "outputs": [],
   "source": [
    "import matplotlib.pyplot as plt"
   ]
  },
  {
   "cell_type": "code",
   "execution_count": 11,
   "id": "cec1da26",
   "metadata": {},
   "outputs": [],
   "source": [
    "def get_evaluation(prob, true):\n",
    "    fpr, tpr, thresholds = metrics.roc_curve(true, prob, pos_label=1)\n",
    "    return fpr, tpr"
   ]
  },
  {
   "cell_type": "code",
   "execution_count": 12,
   "id": "943a07cb",
   "metadata": {},
   "outputs": [
    {
     "name": "stdout",
     "output_type": "stream",
     "text": [
      "WARNING:tensorflow:Layer lr is casting an input tensor from dtype float64 to the layer's dtype of float32, which is new behavior in TensorFlow 2.  The layer has dtype float32 because its dtype defaults to floatx.\n",
      "\n",
      "If you intended to run this layer in float32, you can safely ignore this warning. If in doubt, this warning is likely only an issue if you are porting a TensorFlow 1.X model to TensorFlow 2.\n",
      "\n",
      "To change all layers to have dtype float64 by default, call `tf.keras.backend.set_floatx('float64')`. To change just this layer, pass dtype='float64' to the layer constructor. If you are the author of this layer, you can disable autocasting by passing autocast=False to the base Layer constructor.\n",
      "\n",
      "WARNING:tensorflow:Layer base_model is casting an input tensor from dtype float64 to the layer's dtype of float32, which is new behavior in TensorFlow 2.  The layer has dtype float32 because its dtype defaults to floatx.\n",
      "\n",
      "If you intended to run this layer in float32, you can safely ignore this warning. If in doubt, this warning is likely only an issue if you are porting a TensorFlow 1.X model to TensorFlow 2.\n",
      "\n",
      "To change all layers to have dtype float64 by default, call `tf.keras.backend.set_floatx('float64')`. To change just this layer, pass dtype='float64' to the layer constructor. If you are the author of this layer, you can disable autocasting by passing autocast=False to the base Layer constructor.\n",
      "\n"
     ]
    }
   ],
   "source": [
    "prob, true = get_results(test_data_all, LR, is_dien=False)\n",
    "fpr0, tpr0 = get_evaluation(prob, true)\n",
    "prob, true = get_results(test_data_all, BaseModel, is_dien=False)\n",
    "fpr1, tpr1 = get_evaluation(prob, true)\n",
    "prob, true = get_results(test_data_all, DIN, is_din=True)\n",
    "fpr2, tpr2 = get_evaluation(prob, true)\n",
    "prob, true = get_results(test_data_all, DIEN, is_dien=True)\n",
    "fpr3, tpr3 = get_evaluation(prob, true)"
   ]
  },
  {
   "cell_type": "code",
   "execution_count": 13,
   "id": "7ce3c815",
   "metadata": {},
   "outputs": [
    {
     "data": {
      "image/png": "[encoded data removed]",
      "text/plain": [
       "<Figure size 576x432 with 1 Axes>"
      ]
     },
     "metadata": {
      "needs_background": "light"
     },
     "output_type": "display_data"
    }
   ],
   "source": [
    "from matplotlib.pyplot import MultipleLocator\n",
    "import datetime\n",
    "fig = plt.figure(figsize=(8, 6))\n",
    "ax = fig.add_subplot(111)\n",
    "ax.locator_params('y', tight=True,nbins=14)\n",
    "ax.plot(fpr0, tpr0,linestyle='-', label='Logistic Regression(AUC=0.8113)')\n",
    "ax.plot(fpr1, tpr1,linestyle='-', label='Base Model(AUC=0.8677)')\n",
    "ax.plot(fpr2, tpr2,linestyle='-', label='DIN(AUC=0.8877)')\n",
    "ax.plot(fpr3, tpr3,linestyle='-', label='DIEN(AUC=0.8938)')\n",
    "ax.plot([0, 1], [0, 1], color='navy', lw=2, linestyle='--')\n",
    "ax.legend()\n",
    "x_major_locator=MultipleLocator(0.1)\n",
    "#ax.set_ylim(760)\n",
    "ax.xaxis.set_major_locator(x_major_locator,)\n",
    "style = dict(size=13, color='black')\n",
    "ax.margins(x=0.)\n",
    "font1 = {'size'   : 12}\n",
    "plt.ylabel(\"True Positive Rate\", font1)\n",
    "plt.xlabel('False Positive Rate', font1)\n",
    "ax.grid()\n",
    "plt.savefig('2.jpg', dpi=300, bbox_inches = 'tight')"
   ]
  },
  {
   "cell_type": "code",
   "execution_count": 14,
   "id": "dc2074f4",
   "metadata": {},
   "outputs": [],
   "source": [
    "import numpy as np\n",
    "import matplotlib.pyplot as plt\n",
    "from sklearn import manifold, datasets\n",
    "from util import *\n",
    "def map_to_id(df, col_name):\n",
    "    for col in col_name:\n",
    "        key = sorted(df[col].unique().tolist())\n",
    "        dict_ = dict(zip(key, range(1, len(key) + 1)))\n",
    "        df.loc[:, col] = df[col].map(lambda x: dict_[x])"
   ]
  },
  {
   "cell_type": "code",
   "execution_count": 15,
   "id": "a4ad77d3",
   "metadata": {},
   "outputs": [],
   "source": [
    "df = load_data((\"./ddata/merged_DataFrame_fillna.pkl\"))\n",
    "col = [\"item_sku_id\", \"item_third_cate_cd\", \"sex\", \n",
    "       \"action_type\", \"city\", \"user_level\", 'province', 'county','brand_code', 'shop_id', 'vender_id']\n",
    "map_to_id(df, col)"
   ]
  },
  {
   "cell_type": "code",
   "execution_count": 16,
   "id": "5dd83bb9",
   "metadata": {},
   "outputs": [],
   "source": [
    "item_emb = DIN.embed_seq_layers[0].get_weights()[0]"
   ]
  },
  {
   "cell_type": "code",
   "execution_count": 17,
   "id": "89c37501",
   "metadata": {},
   "outputs": [
    {
     "data": {
      "text/plain": [
       "137546"
      ]
     },
     "execution_count": 17,
     "metadata": {},
     "output_type": "execute_result"
    }
   ],
   "source": [
    "buy = df.loc[df['action_type'] == 2].groupby(\"item_sku_id\").count().sort_values('user_log_acct',ascending=False)\n",
    "most = buy.index.tolist()[:250]\n",
    "least = buy.index.tolist()[len(buy)-100250:-100000]\n",
    "all_iid = most + least\n",
    "all_type = []\n",
    "for _ in range(len(most)):\n",
    "    all_type.append(1)\n",
    "for _ in range(len(least)):\n",
    "    all_type.append(0)\n",
    "target_emb = []\n",
    "for i in range(len(all_iid)):\n",
    "    target_emb.append(item_emb[all_iid[i]])\n",
    "target_emb = np.array(target_emb)\n",
    "len(buy)"
   ]
  },
  {
   "cell_type": "code",
   "execution_count": 18,
   "id": "0ad04522",
   "metadata": {},
   "outputs": [
    {
     "name": "stdout",
     "output_type": "stream",
     "text": [
      "[t-SNE] Computing 91 nearest neighbors...\n",
      "[t-SNE] Indexed 500 samples in 0.000s...\n",
      "[t-SNE] Computed neighbors for 500 samples in 0.013s...\n",
      "[t-SNE] Computed conditional probabilities for sample 500 / 500\n",
      "[t-SNE] Mean sigma: 0.000000\n"
     ]
    },
    {
     "name": "stderr",
     "output_type": "stream",
     "text": [
      "D:\\Anac\\envs\\ml\\lib\\site-packages\\sklearn\\manifold\\_t_sne.py:986: FutureWarning: The PCA initialization in TSNE will change to have the standard deviation of PC1 equal to 1e-4 in 1.2. This will ensure better convergence.\n",
      "  FutureWarning,\n"
     ]
    },
    {
     "name": "stdout",
     "output_type": "stream",
     "text": [
      "[t-SNE] KL divergence after 250 iterations with early exaggeration: 57.599300\n",
      "[t-SNE] KL divergence after 1000 iterations: 0.721635\n"
     ]
    }
   ],
   "source": [
    "tsne = manifold.TSNE(n_components=2,  random_state=250, init='pca',learning_rate='auto', verbose=True)\n",
    "X_tsne = tsne.fit_transform(target_emb)"
   ]
  },
  {
   "cell_type": "code",
   "execution_count": 19,
   "id": "14466c3b",
   "metadata": {},
   "outputs": [
    {
     "data": {
      "image/png": "[encoded data removed]",
      "text/plain": [
       "<Figure size 576x288 with 1 Axes>"
      ]
     },
     "metadata": {
      "needs_background": "light"
     },
     "output_type": "display_data"
    }
   ],
   "source": [
    "x_min, x_max = X_tsne.min(0), X_tsne.max(0)\n",
    "X_norm = (X_tsne - x_min) / (x_max - x_min)\n",
    "plt.figure(figsize=(8, 4))\n",
    "plt.scatter(X_norm[:250, 0], X_norm[:250, 1], c='g', label=\"High Purchase Rate\", marker='>')\n",
    "plt.scatter(X_norm[250:, 0], X_norm[250:, 1], c='b', label=\"Low Purchase Rate\", marker='*')\n",
    "plt.legend()\n",
    "plt.savefig('2.jpg', dpi=300, bbox_inches = 'tight')\n",
    "plt.show()\n"
   ]
  },
  {
   "cell_type": "code",
   "execution_count": 20,
   "id": "083b4f91",
   "metadata": {},
   "outputs": [],
   "source": [
    "cate1 = df.loc[df[\"item_third_cate_cd\"] == 20].sample(500)['item_sku_id'].tolist()\n",
    "cate2 = df.loc[df[\"item_third_cate_cd\"] == 30].sample(500)['item_sku_id'].tolist()\n",
    "cate3 = df.loc[df[\"item_third_cate_cd\"] == 40].sample(500)['item_sku_id'].tolist()\n",
    "cate4 = df.loc[df[\"item_third_cate_cd\"] == 50].sample(500)['item_sku_id'].tolist()\n",
    "cate5 = df.loc[df[\"item_third_cate_cd\"] == 60].sample(500)['item_sku_id'].tolist()"
   ]
  },
  {
   "cell_type": "code",
   "execution_count": 21,
   "id": "c7cfcc9e",
   "metadata": {},
   "outputs": [
    {
     "name": "stdout",
     "output_type": "stream",
     "text": [
      "[t-SNE] Computing 91 nearest neighbors...\n",
      "[t-SNE] Indexed 2500 samples in 0.001s...\n",
      "[t-SNE] Computed neighbors for 2500 samples in 0.134s...\n",
      "[t-SNE] Computed conditional probabilities for sample 1000 / 2500\n",
      "[t-SNE] Computed conditional probabilities for sample 2000 / 2500\n",
      "[t-SNE] Computed conditional probabilities for sample 2500 / 2500\n",
      "[t-SNE] Mean sigma: 0.000000\n"
     ]
    },
    {
     "name": "stderr",
     "output_type": "stream",
     "text": [
      "D:\\Anac\\envs\\ml\\lib\\site-packages\\sklearn\\manifold\\_t_sne.py:986: FutureWarning: The PCA initialization in TSNE will change to have the standard deviation of PC1 equal to 1e-4 in 1.2. This will ensure better convergence.\n",
      "  FutureWarning,\n"
     ]
    },
    {
     "name": "stdout",
     "output_type": "stream",
     "text": [
      "[t-SNE] KL divergence after 250 iterations with early exaggeration: 71.365364\n",
      "[t-SNE] KL divergence after 1000 iterations: 0.215489\n"
     ]
    }
   ],
   "source": [
    "iid_list = df[\"item_sku_id\"].tolist()\n",
    "cat_list = df[\"item_third_cate_cd\"].tolist()\n",
    "iid_to_cat = {}\n",
    "for i in range(len(iid_list)):\n",
    "    iid_to_cat[iid_list[i]] = cat_list[i]\n",
    "\n",
    "all_iid = cate1 + cate2 + cate3 + cate4 + cate5\n",
    "\n",
    "all_cat = []\n",
    "for i in range(len(all_iid)):\n",
    "    all_cat.append(iid_to_cat[all_iid[i]])\n",
    "\n",
    "target_emb = []\n",
    "for i in range(len(all_iid)):\n",
    "    target_emb.append(item_emb[all_iid[i]])\n",
    "target_emb = np.array(target_emb)\n",
    "tsne = manifold.TSNE(n_components=2,  random_state=501, init='pca',learning_rate='auto', verbose=True)\n",
    "X_tsne = tsne.fit_transform(target_emb)"
   ]
  },
  {
   "cell_type": "code",
   "execution_count": 22,
   "id": "c797a52f",
   "metadata": {},
   "outputs": [
    {
     "data": {
      "image/png": "[encoded data removed]",
      "text/plain": [
       "<Figure size 576x288 with 1 Axes>"
      ]
     },
     "metadata": {
      "needs_background": "light"
     },
     "output_type": "display_data"
    }
   ],
   "source": [
    "colors = ['c', 'b', 'g', 'y', 'm']\n",
    "labels = ['Category 1', 'Category 2', 'Category 3', 'Category 4', 'Category 5']\n",
    "    \n",
    "x_min, x_max = X_tsne.min(0), X_tsne.max(0)\n",
    "X_norm = (X_tsne - x_min) / (x_max - x_min)  # 归一化\n",
    "plt.figure(figsize=(8, 4))\n",
    "\n",
    "plt.scatter(X_norm[:500, 0], X_norm[:500, 1], c=colors[0], label=labels[0])\n",
    "plt.scatter(X_norm[500:1000, 0], X_norm[500:1000, 1], c=colors[1], label=labels[1])\n",
    "plt.scatter(X_norm[1000:1500, 0], X_norm[1000:1500, 1], c=colors[2], label=labels[2])\n",
    "plt.scatter(X_norm[1500:2000, 0], X_norm[1500:2000, 1], c=colors[3], label=labels[3])\n",
    "plt.scatter(X_norm[2500:3000, 0], X_norm[2500:3000, 1], c=colors[4], label=labels[4])\n",
    "plt.legend()\n",
    "plt.savefig('2.jpg', dpi=300, bbox_inches = 'tight')\n",
    "plt.show()"
   ]
  },
  {
   "cell_type": "code",
   "execution_count": null,
   "id": "103de1b4",
   "metadata": {},
   "outputs": [],
   "source": []
  },
  {
   "cell_type": "code",
   "execution_count": 23,
   "id": "02382f2e",
   "metadata": {},
   "outputs": [],
   "source": [
    "ordered = df.groupby('item_third_cate_cd').count().sort_values('user_log_acct', ascending=False)\n",
    "cats = df['item_third_cate_cd'].tolist()\n",
    "pop_list = [8, 35, 28, 82, 76]\n",
    "mask = []\n",
    "for ca in cats:\n",
    "    if ca in pop_list:\n",
    "        mask.append(True)\n",
    "    else:\n",
    "        mask.append(False)"
   ]
  },
  {
   "cell_type": "code",
   "execution_count": null,
   "id": "acc48491",
   "metadata": {},
   "outputs": [],
   "source": []
  },
  {
   "cell_type": "code",
   "execution_count": 24,
   "id": "bf696f32",
   "metadata": {},
   "outputs": [],
   "source": [
    "df_filtered = df[mask]\n",
    "all_iid = []\n",
    "for ca in pop_list:\n",
    "    temp = df_filtered.loc[df_filtered['item_third_cate_cd'] == ca].groupby('item_sku_id').count().sort_values('user_log_acct', ascending=False).index.tolist()[:500]\n",
    "    all_iid += temp"
   ]
  },
  {
   "cell_type": "code",
   "execution_count": 25,
   "id": "08bfcf35",
   "metadata": {},
   "outputs": [
    {
     "name": "stdout",
     "output_type": "stream",
     "text": [
      "[t-SNE] Computing 91 nearest neighbors...\n",
      "[t-SNE] Indexed 2500 samples in 0.000s...\n",
      "[t-SNE] Computed neighbors for 2500 samples in 0.153s...\n",
      "[t-SNE] Computed conditional probabilities for sample 1000 / 2500\n",
      "[t-SNE] Computed conditional probabilities for sample 2000 / 2500\n",
      "[t-SNE] Computed conditional probabilities for sample 2500 / 2500\n",
      "[t-SNE] Mean sigma: 0.021307\n"
     ]
    },
    {
     "name": "stderr",
     "output_type": "stream",
     "text": [
      "D:\\Anac\\envs\\ml\\lib\\site-packages\\sklearn\\manifold\\_t_sne.py:986: FutureWarning: The PCA initialization in TSNE will change to have the standard deviation of PC1 equal to 1e-4 in 1.2. This will ensure better convergence.\n",
      "  FutureWarning,\n"
     ]
    },
    {
     "name": "stdout",
     "output_type": "stream",
     "text": [
      "[t-SNE] KL divergence after 250 iterations with early exaggeration: 77.306168\n",
      "[t-SNE] KL divergence after 1000 iterations: 1.656626\n"
     ]
    }
   ],
   "source": [
    "\n",
    "\n",
    "iid_list = df[\"item_sku_id\"].tolist()\n",
    "cat_list = df[\"item_third_cate_cd\"].tolist()\n",
    "iid_to_cat = {}\n",
    "for i in range(len(iid_list)):\n",
    "    iid_to_cat[iid_list[i]] = cat_list[i]\n",
    "\n",
    "all_cat = []\n",
    "for i in range(len(all_iid)):\n",
    "    all_cat.append(iid_to_cat[all_iid[i]])\n",
    "\n",
    "target_emb = []\n",
    "for i in range(len(all_iid)):\n",
    "    target_emb.append(item_emb[all_iid[i]])\n",
    "target_emb = np.array(target_emb)\n",
    "tsne = manifold.TSNE(n_components=2,  random_state=501, init='pca',learning_rate='auto', verbose=True)\n",
    "X_tsne = tsne.fit_transform(target_emb)"
   ]
  },
  {
   "cell_type": "code",
   "execution_count": 26,
   "id": "97e89dce",
   "metadata": {},
   "outputs": [
    {
     "data": {
      "image/png": "[encoded data removed]",
      "text/plain": [
       "<Figure size 576x288 with 1 Axes>"
      ]
     },
     "metadata": {
      "needs_background": "light"
     },
     "output_type": "display_data"
    }
   ],
   "source": [
    "colors = ['c', 'b', 'g', 'y', 'm']\n",
    "labels = ['Category 1', 'Category 2', 'Category 3', 'Category 4', 'Category 5']\n",
    "    \n",
    "x_min, x_max = X_tsne.min(0), X_tsne.max(0)\n",
    "X_norm = (X_tsne - x_min) / (x_max - x_min)  # 归一化\n",
    "plt.figure(figsize=(8, 4))\n",
    "\n",
    "plt.scatter(X_norm[:500, 0], X_norm[:500, 1], c=colors[0], label=labels[0])\n",
    "plt.scatter(X_norm[500:1000, 0], X_norm[500:1000, 1], c=colors[1], label=labels[1])\n",
    "plt.scatter(X_norm[1000:1500, 0], X_norm[1000:1500, 1], c=colors[2], label=labels[2])\n",
    "plt.scatter(X_norm[1500:2000, 0], X_norm[1500:2000, 1], c=colors[3], label=labels[3])\n",
    "plt.scatter(X_norm[2500:3000, 0], X_norm[2500:3000, 1], c=colors[4], label=labels[4])\n",
    "\n",
    "plt.legend()\n",
    "plt.savefig('2.jpg', dpi=300, bbox_inches = 'tight')\n",
    "plt.show()"
   ]
  },
  {
   "cell_type": "code",
   "execution_count": null,
   "id": "8a67bbc4",
   "metadata": {},
   "outputs": [],
   "source": []
  },
  {
   "cell_type": "code",
   "execution_count": 27,
   "id": "fe21ea72",
   "metadata": {},
   "outputs": [],
   "source": [
    "# ##########################################"
   ]
  },
  {
   "cell_type": "code",
   "execution_count": 28,
   "id": "114fdf0c",
   "metadata": {},
   "outputs": [],
   "source": [
    "df = load_data('./ddata/start_data/df_final.pkl')"
   ]
  },
  {
   "cell_type": "code",
   "execution_count": 29,
   "id": "29ad2dd2",
   "metadata": {},
   "outputs": [],
   "source": [
    "df = pd.concat(df[1:])\n",
    "item_emb = DIN.embed_seq_layers[0].get_weights()[0]"
   ]
  },
  {
   "cell_type": "code",
   "execution_count": 30,
   "id": "14b8759e",
   "metadata": {},
   "outputs": [
    {
     "name": "stdout",
     "output_type": "stream",
     "text": [
      "94566\n",
      "[t-SNE] Computing 91 nearest neighbors...\n",
      "[t-SNE] Indexed 500 samples in 0.000s...\n",
      "[t-SNE] Computed neighbors for 500 samples in 0.011s...\n",
      "[t-SNE] Computed conditional probabilities for sample 500 / 500\n",
      "[t-SNE] Mean sigma: 0.013807\n"
     ]
    },
    {
     "name": "stderr",
     "output_type": "stream",
     "text": [
      "D:\\Anac\\envs\\ml\\lib\\site-packages\\sklearn\\manifold\\_t_sne.py:986: FutureWarning: The PCA initialization in TSNE will change to have the standard deviation of PC1 equal to 1e-4 in 1.2. This will ensure better convergence.\n",
      "  FutureWarning,\n"
     ]
    },
    {
     "name": "stdout",
     "output_type": "stream",
     "text": [
      "[t-SNE] KL divergence after 250 iterations with early exaggeration: 58.706558\n",
      "[t-SNE] KL divergence after 1000 iterations: 0.788467\n"
     ]
    }
   ],
   "source": [
    "buy = df.groupby(\"item_sku_id\").count().sort_values('user_log_acct',ascending=False)\n",
    "most = buy.index.tolist()[:250]\n",
    "ll = 60000 #60000\n",
    "least = buy.index.tolist()[len(buy)-ll:-ll + 250]\n",
    "all_iid = most + least\n",
    "all_type = []\n",
    "for _ in range(len(most)):\n",
    "    all_type.append(1)\n",
    "for _ in range(len(least)):\n",
    "    all_type.append(0)\n",
    "target_emb = []\n",
    "for i in range(len(all_iid)):\n",
    "    target_emb.append(item_emb[all_iid[i]])\n",
    "target_emb = np.array(target_emb)\n",
    "print(len(buy))\n",
    "tsne = manifold.TSNE(n_components=2,  random_state=250, init='pca',learning_rate='auto', verbose=True)\n",
    "X_tsne = tsne.fit_transform(target_emb)\n"
   ]
  },
  {
   "cell_type": "code",
   "execution_count": 31,
   "id": "49ecf395",
   "metadata": {},
   "outputs": [
    {
     "data": {
      "image/png": "[encoded data removed]",
      "text/plain": [
       "<Figure size 576x288 with 1 Axes>"
      ]
     },
     "metadata": {
      "needs_background": "light"
     },
     "output_type": "display_data"
    }
   ],
   "source": [
    "x_min, x_max = X_tsne.min(0), X_tsne.max(0)\n",
    "X_norm = (X_tsne - x_min) / (x_max - x_min)\n",
    "plt.figure(figsize=(8, 4))\n",
    "plt.scatter(X_norm[:250, 0], X_norm[:250, 1], c='g', label=\"High Purchase Rate\", marker='>')\n",
    "plt.scatter(X_norm[250:, 0], X_norm[250:, 1], c='b', label=\"Low Purchase Rate\", marker='*')\n",
    "plt.legend()\n",
    "plt.savefig('2.jpg', dpi=300, bbox_inches = 'tight')\n",
    "plt.show()"
   ]
  },
  {
   "cell_type": "code",
   "execution_count": 32,
   "id": "831dfa83",
   "metadata": {},
   "outputs": [
    {
     "name": "stdout",
     "output_type": "stream",
     "text": [
      "20262\n",
      "[t-SNE] Computing 91 nearest neighbors...\n",
      "[t-SNE] Indexed 500 samples in 0.001s...\n",
      "[t-SNE] Computed neighbors for 500 samples in 0.013s...\n",
      "[t-SNE] Computed conditional probabilities for sample 500 / 500\n",
      "[t-SNE] Mean sigma: 0.004823\n"
     ]
    },
    {
     "name": "stderr",
     "output_type": "stream",
     "text": [
      "D:\\Anac\\envs\\ml\\lib\\site-packages\\sklearn\\manifold\\_t_sne.py:986: FutureWarning: The PCA initialization in TSNE will change to have the standard deviation of PC1 equal to 1e-4 in 1.2. This will ensure better convergence.\n",
      "  FutureWarning,\n"
     ]
    },
    {
     "name": "stdout",
     "output_type": "stream",
     "text": [
      "[t-SNE] KL divergence after 100 iterations with early exaggeration: 58.832859\n",
      "[t-SNE] KL divergence after 1000 iterations: 0.877944\n"
     ]
    },
    {
     "data": {
      "image/png": "[encoded data removed]",
      "text/plain": [
       "<Figure size 720x288 with 1 Axes>"
      ]
     },
     "metadata": {
      "needs_background": "light"
     },
     "output_type": "display_data"
    }
   ],
   "source": [
    "df_cat8 = df.loc[df[\"item_third_cate_cd\"] == 8]\n",
    "buy = df_cat8.groupby(\"item_sku_id\").count().sort_values('user_log_acct',ascending=False)\n",
    "most = buy.index.tolist()[:250]\n",
    "ll = 251 #50000\n",
    "least = buy.index.tolist()[len(buy)-ll:-ll + 250]\n",
    "all_iid = most + least\n",
    "all_type = []\n",
    "for _ in range(len(most)):\n",
    "    all_type.append(1)\n",
    "for _ in range(len(least)):\n",
    "    all_type.append(0)\n",
    "target_emb = []\n",
    "for i in range(len(all_iid)):\n",
    "    target_emb.append(item_emb[all_iid[i]])\n",
    "target_emb = np.array(target_emb)\n",
    "print(len(buy))\n",
    "tsne = manifold.TSNE(n_components=2,  random_state=250, init='pca',learning_rate='auto', verbose=True)\n",
    "X_tsne = tsne.fit_transform(target_emb)\n",
    "x_min, x_max = X_tsne.min(0), X_tsne.max(0)\n",
    "X_norm = (X_tsne - x_min) / (x_max - x_min)\n",
    "plt.figure(figsize=(10, 4))\n",
    "plt.scatter(X_norm[:250, 0], X_norm[:250, 1], c='g', label=\"High Purchase Rate, Category 8\", marker='>')\n",
    "plt.scatter(X_norm[250:, 0], X_norm[250:, 1], c='b', label=\"Low Purchase Rate, Category 8\", marker='*')\n",
    "plt.legend()\n",
    "plt.savefig('2.jpg', dpi=300, bbox_inches = 'tight')\n",
    "plt.show()"
   ]
  },
  {
   "cell_type": "code",
   "execution_count": 33,
   "id": "dd45ff9e",
   "metadata": {},
   "outputs": [
    {
     "data": {
      "text/plain": [
       "250"
      ]
     },
     "execution_count": 33,
     "metadata": {},
     "output_type": "execute_result"
    }
   ],
   "source": [
    "len(least)"
   ]
  },
  {
   "cell_type": "code",
   "execution_count": 34,
   "id": "e67723ab",
   "metadata": {},
   "outputs": [],
   "source": [
    "#  #############################"
   ]
  },
  {
   "cell_type": "code",
   "execution_count": 35,
   "id": "59cc23cb",
   "metadata": {},
   "outputs": [],
   "source": [
    "import time\n",
    "from tensorflow.keras.optimizers import Adam\n",
    "from tensorflow.keras.callbacks import EarlyStopping\n",
    "from tensorflow.keras.metrics import AUC\n",
    "import numpy as np\n",
    "from sklearn import metrics\n",
    "from model import DIN, DIEN, BaseModel,  LR\n",
    "from prepare_data import *\n",
    "from data_iterator import *\n",
    "import os\n",
    "import tensorflow as tf\n",
    "import datetime\n",
    "def setup_seed(seed):\n",
    "    random.seed(seed)  # 为python设置随机种子\n",
    "    np.random.seed(seed)  # 为numpy设置随机种子\n",
    "    tf.random.set_seed(seed)  # tf cpu fix seed\n",
    "    os.environ['TF_DETERMINISTIC_OPS'] = '1'  # tf gpu fix seed, please `pip install tensorflow-determinism` first\n",
    "setup_seed(16)\n",
    "maxlen = 100  #100\n",
    "embed_dim = 16 # to make life easier all sparse features have same embedding dim 16\n",
    "att_hidden_units = [160, 80, 40]  # FFN for Attention Layer\n",
    "ffn_hidden_units = [256, 128, 64] # FFN for final output\n",
    "dnn_dropout = 0.5 # Need to ensure this\n",
    "att_activation = 'sigmoid'\n",
    "ffn_activation = 'prelu' #prelu\n",
    "train_batch_size = 128  # 128\n",
    "test_val_batch_size = 2048\n",
    "learning_rate = 0.001\n",
    "l2_weight = 0.0001\n",
    "weight_auxiliary = 0.1"
   ]
  },
  {
   "cell_type": "code",
   "execution_count": 36,
   "id": "1451f536",
   "metadata": {},
   "outputs": [],
   "source": [
    "feature_columns = load_data(\"./ddata/process_feature_columns.pkl\")\n",
    "train_X = load_data(\"./ddata/process_train_X.pkl\")\n",
    "train_y = load_data(\"./ddata/process_train_y.pkl\")\n",
    "dev_X = load_data(\"./ddata/process_dev_X.pkl\")\n",
    "dev_y = load_data(\"./ddata/process_dev_y.pkl\")\n",
    "test_X = load_data(\"./ddata/process_test_X.pkl\")\n",
    "test_y = load_data(\"./ddata/process_test_y.pkl\")"
   ]
  },
  {
   "cell_type": "code",
   "execution_count": 37,
   "id": "984aee04",
   "metadata": {},
   "outputs": [
    {
     "data": {
      "text/plain": [
       "<tensorflow.python.training.tracking.util.CheckpointLoadStatus at 0x1a34039c808>"
      ]
     },
     "execution_count": 37,
     "metadata": {},
     "output_type": "execute_result"
    }
   ],
   "source": [
    "DIN = DIN(feature_columns, att_hidden_units, ffn_hidden_units, att_activation,ffn_activation, maxlen, dnn_dropout)\n",
    "DIEN = DIEN(feature_columns, att_hidden_units, ffn_hidden_units, att_activation,ffn_activation, maxlen, dnn_dropout,  embed_dim=embed_dim)\n",
    "BaseModel = BaseModel(feature_columns, att_hidden_units, ffn_hidden_units, att_activation,ffn_activation, maxlen, dnn_dropout,  embed_dim=embed_dim)\n",
    "LR = LR(feature_columns, att_hidden_units, ffn_hidden_units, att_activation,ffn_activation, maxlen, dnn_dropout,  embed_dim=embed_dim)\n",
    "BaseModel.load_weights(\"./saved_weights/BaseModel/BaseModel_0.8693436574002537.ckpt\")\n",
    "DIN.load_weights(\"./saved_weights/DIN/DIN_0.8892130669036009.ckpt\")\n",
    "LR.load_weights(\"./saved_weights/LR/LR_0.8079523807697784.ckpt\")\n",
    "DIEN.load_weights(\"./saved_weights/DIEN/DIEN_0.8945942317932614.ckpt\")"
   ]
  },
  {
   "cell_type": "code",
   "execution_count": 38,
   "id": "01f1da22",
   "metadata": {},
   "outputs": [],
   "source": [
    "df = load_data(\"./ddata/start_data/df_final.pkl\")\n",
    "df_data = pd.concat(df[1:])"
   ]
  },
  {
   "cell_type": "code",
   "execution_count": 39,
   "id": "3887a7a3",
   "metadata": {},
   "outputs": [
    {
     "data": {
      "text/html": [
       "<div>\n",
       "<style scoped>\n",
       "    .dataframe tbody tr th:only-of-type {\n",
       "        vertical-align: middle;\n",
       "    }\n",
       "\n",
       "    .dataframe tbody tr th {\n",
       "        vertical-align: top;\n",
       "    }\n",
       "\n",
       "    .dataframe thead th {\n",
       "        text-align: right;\n",
       "    }\n",
       "</style>\n",
       "<table border=\"1\" class=\"dataframe\">\n",
       "  <thead>\n",
       "    <tr style=\"text-align: right;\">\n",
       "      <th></th>\n",
       "      <th>user_log_acct</th>\n",
       "      <th>month_day</th>\n",
       "      <th>label</th>\n",
       "      <th>user_item</th>\n",
       "      <th>sex</th>\n",
       "      <th>city</th>\n",
       "      <th>user_level</th>\n",
       "      <th>province</th>\n",
       "      <th>county</th>\n",
       "      <th>item_third_cate_cd</th>\n",
       "      <th>...</th>\n",
       "      <th>item_seq</th>\n",
       "      <th>cate_seq</th>\n",
       "      <th>type_seq</th>\n",
       "      <th>user_log_acct_last30_days_action_1</th>\n",
       "      <th>user_log_acct_last30_days_action_2</th>\n",
       "      <th>user_log_acct_last30_days_action_3</th>\n",
       "      <th>user_log_acct_last30_days_action_4</th>\n",
       "      <th>user_log_acct_last30_days_action_1_rt</th>\n",
       "      <th>user_log_acct_last30_days_action_3_rt</th>\n",
       "      <th>user_log_acct_last30_days_action_4_rt</th>\n",
       "    </tr>\n",
       "    <tr>\n",
       "      <th>item_sku_id</th>\n",
       "      <th></th>\n",
       "      <th></th>\n",
       "      <th></th>\n",
       "      <th></th>\n",
       "      <th></th>\n",
       "      <th></th>\n",
       "      <th></th>\n",
       "      <th></th>\n",
       "      <th></th>\n",
       "      <th></th>\n",
       "      <th></th>\n",
       "      <th></th>\n",
       "      <th></th>\n",
       "      <th></th>\n",
       "      <th></th>\n",
       "      <th></th>\n",
       "      <th></th>\n",
       "      <th></th>\n",
       "      <th></th>\n",
       "      <th></th>\n",
       "      <th></th>\n",
       "    </tr>\n",
       "  </thead>\n",
       "  <tbody>\n",
       "    <tr>\n",
       "      <th>258625</th>\n",
       "      <td>2541</td>\n",
       "      <td>2541</td>\n",
       "      <td>2541</td>\n",
       "      <td>2541</td>\n",
       "      <td>2541</td>\n",
       "      <td>2541</td>\n",
       "      <td>2541</td>\n",
       "      <td>2541</td>\n",
       "      <td>2541</td>\n",
       "      <td>2541</td>\n",
       "      <td>...</td>\n",
       "      <td>2541</td>\n",
       "      <td>2541</td>\n",
       "      <td>2541</td>\n",
       "      <td>2541</td>\n",
       "      <td>2541</td>\n",
       "      <td>2541</td>\n",
       "      <td>2541</td>\n",
       "      <td>2541</td>\n",
       "      <td>2541</td>\n",
       "      <td>2541</td>\n",
       "    </tr>\n",
       "    <tr>\n",
       "      <th>224207</th>\n",
       "      <td>2183</td>\n",
       "      <td>2183</td>\n",
       "      <td>2183</td>\n",
       "      <td>2183</td>\n",
       "      <td>2183</td>\n",
       "      <td>2183</td>\n",
       "      <td>2183</td>\n",
       "      <td>2183</td>\n",
       "      <td>2183</td>\n",
       "      <td>2183</td>\n",
       "      <td>...</td>\n",
       "      <td>2183</td>\n",
       "      <td>2183</td>\n",
       "      <td>2183</td>\n",
       "      <td>2183</td>\n",
       "      <td>2183</td>\n",
       "      <td>2183</td>\n",
       "      <td>2183</td>\n",
       "      <td>2183</td>\n",
       "      <td>2183</td>\n",
       "      <td>2183</td>\n",
       "    </tr>\n",
       "    <tr>\n",
       "      <th>152092</th>\n",
       "      <td>1084</td>\n",
       "      <td>1084</td>\n",
       "      <td>1084</td>\n",
       "      <td>1084</td>\n",
       "      <td>1084</td>\n",
       "      <td>1084</td>\n",
       "      <td>1084</td>\n",
       "      <td>1084</td>\n",
       "      <td>1084</td>\n",
       "      <td>1084</td>\n",
       "      <td>...</td>\n",
       "      <td>1084</td>\n",
       "      <td>1084</td>\n",
       "      <td>1084</td>\n",
       "      <td>1084</td>\n",
       "      <td>1084</td>\n",
       "      <td>1084</td>\n",
       "      <td>1084</td>\n",
       "      <td>1084</td>\n",
       "      <td>1084</td>\n",
       "      <td>1084</td>\n",
       "    </tr>\n",
       "    <tr>\n",
       "      <th>248051</th>\n",
       "      <td>988</td>\n",
       "      <td>988</td>\n",
       "      <td>988</td>\n",
       "      <td>988</td>\n",
       "      <td>988</td>\n",
       "      <td>988</td>\n",
       "      <td>988</td>\n",
       "      <td>988</td>\n",
       "      <td>988</td>\n",
       "      <td>988</td>\n",
       "      <td>...</td>\n",
       "      <td>988</td>\n",
       "      <td>988</td>\n",
       "      <td>988</td>\n",
       "      <td>988</td>\n",
       "      <td>988</td>\n",
       "      <td>988</td>\n",
       "      <td>988</td>\n",
       "      <td>988</td>\n",
       "      <td>988</td>\n",
       "      <td>988</td>\n",
       "    </tr>\n",
       "    <tr>\n",
       "      <th>19643</th>\n",
       "      <td>932</td>\n",
       "      <td>932</td>\n",
       "      <td>932</td>\n",
       "      <td>932</td>\n",
       "      <td>932</td>\n",
       "      <td>932</td>\n",
       "      <td>932</td>\n",
       "      <td>932</td>\n",
       "      <td>932</td>\n",
       "      <td>932</td>\n",
       "      <td>...</td>\n",
       "      <td>932</td>\n",
       "      <td>932</td>\n",
       "      <td>932</td>\n",
       "      <td>932</td>\n",
       "      <td>932</td>\n",
       "      <td>932</td>\n",
       "      <td>932</td>\n",
       "      <td>932</td>\n",
       "      <td>932</td>\n",
       "      <td>932</td>\n",
       "    </tr>\n",
       "    <tr>\n",
       "      <th>107331</th>\n",
       "      <td>747</td>\n",
       "      <td>747</td>\n",
       "      <td>747</td>\n",
       "      <td>747</td>\n",
       "      <td>747</td>\n",
       "      <td>747</td>\n",
       "      <td>747</td>\n",
       "      <td>747</td>\n",
       "      <td>747</td>\n",
       "      <td>747</td>\n",
       "      <td>...</td>\n",
       "      <td>747</td>\n",
       "      <td>747</td>\n",
       "      <td>747</td>\n",
       "      <td>747</td>\n",
       "      <td>747</td>\n",
       "      <td>747</td>\n",
       "      <td>747</td>\n",
       "      <td>747</td>\n",
       "      <td>747</td>\n",
       "      <td>747</td>\n",
       "    </tr>\n",
       "    <tr>\n",
       "      <th>58826</th>\n",
       "      <td>701</td>\n",
       "      <td>701</td>\n",
       "      <td>701</td>\n",
       "      <td>701</td>\n",
       "      <td>701</td>\n",
       "      <td>701</td>\n",
       "      <td>701</td>\n",
       "      <td>701</td>\n",
       "      <td>701</td>\n",
       "      <td>701</td>\n",
       "      <td>...</td>\n",
       "      <td>701</td>\n",
       "      <td>701</td>\n",
       "      <td>701</td>\n",
       "      <td>701</td>\n",
       "      <td>701</td>\n",
       "      <td>701</td>\n",
       "      <td>701</td>\n",
       "      <td>701</td>\n",
       "      <td>701</td>\n",
       "      <td>701</td>\n",
       "    </tr>\n",
       "    <tr>\n",
       "      <th>37284</th>\n",
       "      <td>690</td>\n",
       "      <td>690</td>\n",
       "      <td>690</td>\n",
       "      <td>690</td>\n",
       "      <td>690</td>\n",
       "      <td>690</td>\n",
       "      <td>690</td>\n",
       "      <td>690</td>\n",
       "      <td>690</td>\n",
       "      <td>690</td>\n",
       "      <td>...</td>\n",
       "      <td>690</td>\n",
       "      <td>690</td>\n",
       "      <td>690</td>\n",
       "      <td>690</td>\n",
       "      <td>690</td>\n",
       "      <td>690</td>\n",
       "      <td>690</td>\n",
       "      <td>690</td>\n",
       "      <td>690</td>\n",
       "      <td>690</td>\n",
       "    </tr>\n",
       "    <tr>\n",
       "      <th>141479</th>\n",
       "      <td>642</td>\n",
       "      <td>642</td>\n",
       "      <td>642</td>\n",
       "      <td>642</td>\n",
       "      <td>642</td>\n",
       "      <td>642</td>\n",
       "      <td>642</td>\n",
       "      <td>642</td>\n",
       "      <td>642</td>\n",
       "      <td>642</td>\n",
       "      <td>...</td>\n",
       "      <td>642</td>\n",
       "      <td>642</td>\n",
       "      <td>642</td>\n",
       "      <td>642</td>\n",
       "      <td>642</td>\n",
       "      <td>642</td>\n",
       "      <td>642</td>\n",
       "      <td>642</td>\n",
       "      <td>642</td>\n",
       "      <td>642</td>\n",
       "    </tr>\n",
       "    <tr>\n",
       "      <th>206988</th>\n",
       "      <td>611</td>\n",
       "      <td>611</td>\n",
       "      <td>611</td>\n",
       "      <td>611</td>\n",
       "      <td>611</td>\n",
       "      <td>611</td>\n",
       "      <td>611</td>\n",
       "      <td>611</td>\n",
       "      <td>611</td>\n",
       "      <td>611</td>\n",
       "      <td>...</td>\n",
       "      <td>611</td>\n",
       "      <td>611</td>\n",
       "      <td>611</td>\n",
       "      <td>611</td>\n",
       "      <td>611</td>\n",
       "      <td>611</td>\n",
       "      <td>611</td>\n",
       "      <td>611</td>\n",
       "      <td>611</td>\n",
       "      <td>611</td>\n",
       "    </tr>\n",
       "  </tbody>\n",
       "</table>\n",
       "<p>10 rows × 232 columns</p>\n",
       "</div>"
      ],
      "text/plain": [
       "             user_log_acct  month_day  label  user_item   sex  city  \\\n",
       "item_sku_id                                                           \n",
       "258625                2541       2541   2541       2541  2541  2541   \n",
       "224207                2183       2183   2183       2183  2183  2183   \n",
       "152092                1084       1084   1084       1084  1084  1084   \n",
       "248051                 988        988    988        988   988   988   \n",
       "19643                  932        932    932        932   932   932   \n",
       "107331                 747        747    747        747   747   747   \n",
       "58826                  701        701    701        701   701   701   \n",
       "37284                  690        690    690        690   690   690   \n",
       "141479                 642        642    642        642   642   642   \n",
       "206988                 611        611    611        611   611   611   \n",
       "\n",
       "             user_level  province  county  item_third_cate_cd  ...  item_seq  \\\n",
       "item_sku_id                                                    ...             \n",
       "258625             2541      2541    2541                2541  ...      2541   \n",
       "224207             2183      2183    2183                2183  ...      2183   \n",
       "152092             1084      1084    1084                1084  ...      1084   \n",
       "248051              988       988     988                 988  ...       988   \n",
       "19643               932       932     932                 932  ...       932   \n",
       "107331              747       747     747                 747  ...       747   \n",
       "58826               701       701     701                 701  ...       701   \n",
       "37284               690       690     690                 690  ...       690   \n",
       "141479              642       642     642                 642  ...       642   \n",
       "206988              611       611     611                 611  ...       611   \n",
       "\n",
       "             cate_seq  type_seq  user_log_acct_last30_days_action_1  \\\n",
       "item_sku_id                                                           \n",
       "258625           2541      2541                                2541   \n",
       "224207           2183      2183                                2183   \n",
       "152092           1084      1084                                1084   \n",
       "248051            988       988                                 988   \n",
       "19643             932       932                                 932   \n",
       "107331            747       747                                 747   \n",
       "58826             701       701                                 701   \n",
       "37284             690       690                                 690   \n",
       "141479            642       642                                 642   \n",
       "206988            611       611                                 611   \n",
       "\n",
       "             user_log_acct_last30_days_action_2  \\\n",
       "item_sku_id                                       \n",
       "258625                                     2541   \n",
       "224207                                     2183   \n",
       "152092                                     1084   \n",
       "248051                                      988   \n",
       "19643                                       932   \n",
       "107331                                      747   \n",
       "58826                                       701   \n",
       "37284                                       690   \n",
       "141479                                      642   \n",
       "206988                                      611   \n",
       "\n",
       "             user_log_acct_last30_days_action_3  \\\n",
       "item_sku_id                                       \n",
       "258625                                     2541   \n",
       "224207                                     2183   \n",
       "152092                                     1084   \n",
       "248051                                      988   \n",
       "19643                                       932   \n",
       "107331                                      747   \n",
       "58826                                       701   \n",
       "37284                                       690   \n",
       "141479                                      642   \n",
       "206988                                      611   \n",
       "\n",
       "             user_log_acct_last30_days_action_4  \\\n",
       "item_sku_id                                       \n",
       "258625                                     2541   \n",
       "224207                                     2183   \n",
       "152092                                     1084   \n",
       "248051                                      988   \n",
       "19643                                       932   \n",
       "107331                                      747   \n",
       "58826                                       701   \n",
       "37284                                       690   \n",
       "141479                                      642   \n",
       "206988                                      611   \n",
       "\n",
       "             user_log_acct_last30_days_action_1_rt  \\\n",
       "item_sku_id                                          \n",
       "258625                                        2541   \n",
       "224207                                        2183   \n",
       "152092                                        1084   \n",
       "248051                                         988   \n",
       "19643                                          932   \n",
       "107331                                         747   \n",
       "58826                                          701   \n",
       "37284                                          690   \n",
       "141479                                         642   \n",
       "206988                                         611   \n",
       "\n",
       "             user_log_acct_last30_days_action_3_rt  \\\n",
       "item_sku_id                                          \n",
       "258625                                        2541   \n",
       "224207                                        2183   \n",
       "152092                                        1084   \n",
       "248051                                         988   \n",
       "19643                                          932   \n",
       "107331                                         747   \n",
       "58826                                          701   \n",
       "37284                                          690   \n",
       "141479                                         642   \n",
       "206988                                         611   \n",
       "\n",
       "             user_log_acct_last30_days_action_4_rt  \n",
       "item_sku_id                                         \n",
       "258625                                        2541  \n",
       "224207                                        2183  \n",
       "152092                                        1084  \n",
       "248051                                         988  \n",
       "19643                                          932  \n",
       "107331                                         747  \n",
       "58826                                          701  \n",
       "37284                                          690  \n",
       "141479                                         642  \n",
       "206988                                         611  \n",
       "\n",
       "[10 rows x 232 columns]"
      ]
     },
     "execution_count": 39,
     "metadata": {},
     "output_type": "execute_result"
    }
   ],
   "source": [
    "df_data.groupby(\"item_sku_id\").count().sort_values(\"sex\", ascending=False).head(10)"
   ]
  },
  {
   "cell_type": "code",
   "execution_count": 40,
   "id": "3d764534",
   "metadata": {},
   "outputs": [
    {
     "data": {
      "text/plain": [
       "20       70\n",
       "204      70\n",
       "476      70\n",
       "769      70\n",
       "866      70\n",
       "         ..\n",
       "48640    70\n",
       "48830    70\n",
       "49934    70\n",
       "50468    70\n",
       "50782    70\n",
       "Name: item_third_cate_cd, Length: 1084, dtype: int64"
      ]
     },
     "execution_count": 40,
     "metadata": {},
     "output_type": "execute_result"
    }
   ],
   "source": [
    "df_data.loc[df_data[\"item_sku_id\"] == 152092].item_third_cate_cd"
   ]
  },
  {
   "cell_type": "code",
   "execution_count": 41,
   "id": "fccfb79c",
   "metadata": {},
   "outputs": [],
   "source": [
    "# 2 hist 4 target"
   ]
  },
  {
   "cell_type": "code",
   "execution_count": 42,
   "id": "dbe4ee43",
   "metadata": {},
   "outputs": [],
   "source": [
    "index = 4\n",
    "sample = [np.array([train_X[0][index]]), np.array([train_X[1][index]]), np.array([train_X[2][index]]), np.array([train_X[3][index]]), np.array([train_X[4][index]]), np.array([train_X[5][index]])]"
   ]
  },
  {
   "cell_type": "code",
   "execution_count": 43,
   "id": "1e416581",
   "metadata": {},
   "outputs": [
    {
     "data": {
      "text/plain": [
       "[array([[0.]]),\n",
       " array([[242,   3,   5,  16, 417]]),\n",
       " array([[[     0,      0,      0],\n",
       "         [     0,      0,      0],\n",
       "         [     0,      0,      0],\n",
       "         [     0,      0,      0],\n",
       "         [     0,      0,      0],\n",
       "         [     0,      0,      0],\n",
       "         [     0,      0,      0],\n",
       "         [     0,      0,      0],\n",
       "         [     0,      0,      0],\n",
       "         [     0,      0,      0],\n",
       "         [     0,      0,      0],\n",
       "         [     0,      0,      0],\n",
       "         [     0,      0,      0],\n",
       "         [     0,      0,      0],\n",
       "         [     0,      0,      0],\n",
       "         [     0,      0,      0],\n",
       "         [     0,      0,      0],\n",
       "         [     0,      0,      0],\n",
       "         [179231,     65,      1],\n",
       "         [103709,     74,      1],\n",
       "         [103709,     74,      1],\n",
       "         [288728,     74,      1],\n",
       "         [233783,     42,      1],\n",
       "         [199998,     42,      1],\n",
       "         [199998,     42,      3],\n",
       "         [168302,     42,      1],\n",
       "         [233783,     42,      3],\n",
       "         [345520,     74,      1],\n",
       "         [345520,     74,      1],\n",
       "         [345520,     74,      1],\n",
       "         [ 67074,     74,      1],\n",
       "         [141254,     74,      1],\n",
       "         [ 98364,     74,      1],\n",
       "         [103709,     74,      1],\n",
       "         [264513,     74,      1],\n",
       "         [330122,     74,      1],\n",
       "         [ 73935,     74,      1],\n",
       "         [315485,     74,      1],\n",
       "         [258174,     74,      1],\n",
       "         [139943,     74,      1],\n",
       "         [ 35528,     74,      1],\n",
       "         [362184,     74,      1],\n",
       "         [254301,     74,      1],\n",
       "         [147371,     74,      1],\n",
       "         [149437,     74,      1],\n",
       "         [298490,     74,      1],\n",
       "         [ 70523,     74,      1],\n",
       "         [370539,     65,      1],\n",
       "         [205626,     65,      1],\n",
       "         [105821,     74,      1],\n",
       "         [286120,     74,      1],\n",
       "         [263560,     74,      1],\n",
       "         [ 70525,     74,      1],\n",
       "         [218741,     74,      1],\n",
       "         [345520,     74,      1],\n",
       "         [364156,     65,      1],\n",
       "         [ 64657,     74,      1],\n",
       "         [286120,     74,      1],\n",
       "         [105821,     74,      1],\n",
       "         [258258,     74,      1],\n",
       "         [263560,     74,      1],\n",
       "         [370658,     74,      1],\n",
       "         [370539,     65,      1],\n",
       "         [227308,     74,      1],\n",
       "         [  5924,     74,      1],\n",
       "         [ 70525,     74,      1],\n",
       "         [254301,     74,      1],\n",
       "         [ 70525,     74,      1],\n",
       "         [254301,     74,      2],\n",
       "         [ 70525,     74,      2],\n",
       "         [364156,     65,      2],\n",
       "         [370658,     74,      2],\n",
       "         [300763,     63,      1],\n",
       "         [ 64657,     74,      1],\n",
       "         [364156,     65,      1],\n",
       "         [ 70525,     74,      1],\n",
       "         [199998,     42,      1],\n",
       "         [ 88609,     42,      1],\n",
       "         [ 43325,     42,      1],\n",
       "         [133412,     42,      1],\n",
       "         [ 43325,     42,      1],\n",
       "         [ 24350,     42,      1],\n",
       "         [133412,     42,      1],\n",
       "         [ 88609,     42,      1],\n",
       "         [199998,     42,      1],\n",
       "         [190827,     42,      3],\n",
       "         [129089,     42,      1],\n",
       "         [ 30350,     42,      1],\n",
       "         [137439,     42,      1],\n",
       "         [188808,     42,      1],\n",
       "         [116669,     42,      1],\n",
       "         [ 96110,     42,      1],\n",
       "         [376482,     42,      1],\n",
       "         [145872,     42,      1],\n",
       "         [ 82408,     42,      1],\n",
       "         [167841,     42,      1],\n",
       "         [133412,     42,      1],\n",
       "         [ 88609,     42,      1],\n",
       "         [ 43325,     42,      1],\n",
       "         [199998,     42,      1]]]),\n",
       " array([[[     0,      0,      0],\n",
       "         [     0,      0,      0],\n",
       "         [     0,      0,      0],\n",
       "         [     0,      0,      0],\n",
       "         [     0,      0,      0],\n",
       "         [     0,      0,      0],\n",
       "         [     0,      0,      0],\n",
       "         [     0,      0,      0],\n",
       "         [     0,      0,      0],\n",
       "         [     0,      0,      0],\n",
       "         [     0,      0,      0],\n",
       "         [     0,      0,      0],\n",
       "         [     0,      0,      0],\n",
       "         [     0,      0,      0],\n",
       "         [     0,      0,      0],\n",
       "         [     0,      0,      0],\n",
       "         [     0,      0,      0],\n",
       "         [     0,      0,      0],\n",
       "         [ 45830,     18,      4],\n",
       "         [ 59461,      8,      4],\n",
       "         [ 25380,      8,      1],\n",
       "         [218561,     82,      3],\n",
       "         [234293,     11,      2],\n",
       "         [234359,     44,      2],\n",
       "         [189924,     71,      1],\n",
       "         [  4343,      8,      2],\n",
       "         [276752,     76,      1],\n",
       "         [308376,      8,      1],\n",
       "         [ 88293,     76,      4],\n",
       "         [ 76329,     74,      4],\n",
       "         [220363,     57,      3],\n",
       "         [254945,     74,      3],\n",
       "         [102249,     44,      3],\n",
       "         [141769,     28,      1],\n",
       "         [ 93281,     77,      4],\n",
       "         [ 61604,     82,      2],\n",
       "         [136205,      8,      1],\n",
       "         [101833,      8,      1],\n",
       "         [270502,      1,      2],\n",
       "         [328091,     76,      1],\n",
       "         [171294,     26,      2],\n",
       "         [ 14742,     50,      4],\n",
       "         [219943,     25,      3],\n",
       "         [180877,     57,      1],\n",
       "         [204639,      8,      4],\n",
       "         [352259,     70,      1],\n",
       "         [ 90093,     68,      1],\n",
       "         [ 63520,      8,      3],\n",
       "         [121747,      8,      2],\n",
       "         [316840,      8,      4],\n",
       "         [202034,      4,      4],\n",
       "         [360930,      8,      4],\n",
       "         [200237,     64,      3],\n",
       "         [308482,     64,      2],\n",
       "         [230696,      8,      4],\n",
       "         [328911,     23,      3],\n",
       "         [242529,      8,      3],\n",
       "         [207868,      8,      4],\n",
       "         [264668,     75,      2],\n",
       "         [ 57753,     78,      3],\n",
       "         [103811,     76,      2],\n",
       "         [157640,     34,      3],\n",
       "         [141479,     35,      4],\n",
       "         [168813,      8,      3],\n",
       "         [ 48600,      1,      3],\n",
       "         [204616,      8,      4],\n",
       "         [258814,      8,      1],\n",
       "         [ 72857,     70,      3],\n",
       "         [ 76563,     28,      4],\n",
       "         [ 55238,     32,      2],\n",
       "         [140160,     30,      2],\n",
       "         [ 87351,      8,      4],\n",
       "         [115871,     30,      4],\n",
       "         [166649,      8,      4],\n",
       "         [102404,     56,      4],\n",
       "         [271098,     33,      2],\n",
       "         [247175,     56,      2],\n",
       "         [277563,      8,      4],\n",
       "         [153122,      8,      1],\n",
       "         [102115,     27,      4],\n",
       "         [199918,     82,      2],\n",
       "         [157349,     74,      1],\n",
       "         [186740,     18,      1],\n",
       "         [ 70519,     25,      4],\n",
       "         [343232,      8,      4],\n",
       "         [104953,      8,      1],\n",
       "         [ 23990,     18,      2],\n",
       "         [193338,     43,      3],\n",
       "         [ 91466,     82,      2],\n",
       "         [226761,      8,      2],\n",
       "         [150572,     57,      1],\n",
       "         [195638,     57,      4],\n",
       "         [342033,     28,      3],\n",
       "         [  5770,     25,      4],\n",
       "         [250413,     25,      4],\n",
       "         [189751,     77,      4],\n",
       "         [365657,     34,      3],\n",
       "         [372790,     82,      2],\n",
       "         [250386,     54,      2],\n",
       "         [ 88770,     76,      1]]]),\n",
       " array([[43325,    42,     2]]),\n",
       " array([[4618, 7142, 3626]])]"
      ]
     },
     "execution_count": 43,
     "metadata": {},
     "output_type": "execute_result"
    }
   ],
   "source": [
    "sample"
   ]
  },
  {
   "cell_type": "code",
   "execution_count": 44,
   "id": "f62d498b",
   "metadata": {},
   "outputs": [],
   "source": [
    "sample[4][0] = np.array([258625, 8, 2])"
   ]
  },
  {
   "cell_type": "code",
   "execution_count": 45,
   "id": "b2c26e4e",
   "metadata": {},
   "outputs": [],
   "source": [
    "sample[2][0][-6] = np.array([258625, 8, 2]) # 同 购买 1\n",
    "sample[2][0][-5] = np.array([258625, 8, 1]) # 同 非购买 6   \n",
    "sample[2][0][-4] = np.array([37284, 76, 2]) # 不同 不同类 购买 3 [37284, 76, 2]  [152092, 70, 2]\n",
    "sample[2][0][-3] = np.array([37284, 76, 1]) # 不同 不同类 非购买 2\n",
    "sample[2][0][-2] = np.array([224207, 8, 2]) # 不同 同类 购买 4\n",
    "sample[2][0][-1] = np.array([224207, 8, 1]) # 不同 同类 非购买 5"
   ]
  },
  {
   "cell_type": "code",
   "execution_count": 46,
   "id": "bf006e71",
   "metadata": {},
   "outputs": [
    {
     "name": "stdout",
     "output_type": "stream",
     "text": [
      "WARNING:tensorflow:Layer din_1 is casting an input tensor from dtype float64 to the layer's dtype of float32, which is new behavior in TensorFlow 2.  The layer has dtype float32 because its dtype defaults to floatx.\n",
      "\n",
      "If you intended to run this layer in float32, you can safely ignore this warning. If in doubt, this warning is likely only an issue if you are porting a TensorFlow 1.X model to TensorFlow 2.\n",
      "\n",
      "To change all layers to have dtype float64 by default, call `tf.keras.backend.set_floatx('float64')`. To change just this layer, pass dtype='float64' to the layer constructor. If you are the author of this layer, you can disable autocasting by passing autocast=False to the base Layer constructor.\n",
      "\n"
     ]
    },
    {
     "data": {
      "text/plain": [
       "array([0.44870612, 0.4486302 , 0.44870314, 0.44862732, 0.44870654,\n",
       "       0.44863057], dtype=float32)"
      ]
     },
     "execution_count": 46,
     "metadata": {},
     "output_type": "execute_result"
    }
   ],
   "source": [
    "att_score = []\n",
    "res = DIN(sample,att_score)\n",
    "behaviors = np.array(att_score[0][0][-6:])  \n",
    "behaviors\n",
    "\n",
    "#[0.44870612, 0.4486302 , 0.44870237, 0.44862646, 0.44870654,\n",
    "#       0.44863057]"
   ]
  },
  {
   "cell_type": "code",
   "execution_count": 47,
   "id": "3673f0a7",
   "metadata": {},
   "outputs": [],
   "source": [
    "mi = min(behaviors)\n",
    "ma = max(behaviors)\n",
    "nor_res = (behaviors - mi)/ (ma - mi) + 0.1"
   ]
  },
  {
   "cell_type": "code",
   "execution_count": 48,
   "id": "8246c1fc",
   "metadata": {},
   "outputs": [
    {
     "data": {
      "image/png": "[encoded data removed]",
      "text/plain": [
       "<Figure size 576x288 with 1 Axes>"
      ]
     },
     "metadata": {
      "needs_background": "light"
     },
     "output_type": "display_data"
    }
   ],
   "source": [
    "import matplotlib.pyplot as plt\n",
    "plt.figure(figsize=(8, 4))\n",
    "labels = ['behavior 1', 'behavior 2', 'behavior 3', 'behavior 4', 'behavior 5', 'behavior 6']\n",
    "plt.grid()\n",
    "plt.bar(range(len(nor_res)), nor_res, tick_label=labels)\n",
    "plt.savefig('2.jpg', dpi=300, bbox_inches = 'tight')\n",
    "plt.show()\n",
    "\n"
   ]
  },
  {
   "cell_type": "code",
   "execution_count": 49,
   "id": "922dc11d",
   "metadata": {},
   "outputs": [
    {
     "data": {
      "text/plain": [
       "array([0.44870612, 0.4486302 , 0.44870314, 0.44862732, 0.44870654,\n",
       "       0.44863057], dtype=float32)"
      ]
     },
     "execution_count": 49,
     "metadata": {},
     "output_type": "execute_result"
    }
   ],
   "source": [
    "behaviors"
   ]
  },
  {
   "cell_type": "code",
   "execution_count": 50,
   "id": "04619e39",
   "metadata": {},
   "outputs": [
    {
     "data": {
      "image/png": "[encoded data removed]",
      "text/plain": [
       "<Figure size 576x288 with 1 Axes>"
      ]
     },
     "metadata": {
      "needs_background": "light"
     },
     "output_type": "display_data"
    }
   ],
   "source": [
    "import matplotlib.pyplot as plt\n",
    "buys_ = behaviors[[0,2,4]]\n",
    "mi = min(buys_)\n",
    "ma = max(buys_)\n",
    "nor_res = (buys_ - mi)/ (ma - mi) + 0.1\n",
    "\n",
    "plt.figure(figsize=(8, 4))\n",
    "labels = ['behavior 1', 'behavior 3', 'behavior 5']\n",
    "plt.grid()\n",
    "plt.bar(range(3), nor_res, tick_label=labels)\n",
    "plt.title(\"Behaviors of Purchase\")\n",
    "plt.savefig('2.jpg', dpi=300, bbox_inches = 'tight')\n",
    "plt.show()"
   ]
  },
  {
   "cell_type": "code",
   "execution_count": 51,
   "id": "3d76d640",
   "metadata": {},
   "outputs": [
    {
     "data": {
      "image/png": "[encoded data removed]",
      "text/plain": [
       "<Figure size 576x288 with 1 Axes>"
      ]
     },
     "metadata": {
      "needs_background": "light"
     },
     "output_type": "display_data"
    }
   ],
   "source": [
    "import matplotlib.pyplot as plt\n",
    "clicks = behaviors[[1,3,5]]\n",
    "mi = min(clicks)\n",
    "ma = max(clicks)\n",
    "nor_res = (clicks - mi)/ (ma - mi) + 0.1\n",
    "plt.figure(figsize=(8, 4))\n",
    "labels = ['behavior 2', 'behavior 4', 'behavior 6']\n",
    "plt.grid()\n",
    "plt.bar(range(3), nor_res, tick_label=labels)\n",
    "plt.title(\"Behaviors of Clicking\")\n",
    "plt.savefig('2.jpg', dpi=300, bbox_inches = 'tight')\n",
    "plt.show()"
   ]
  },
  {
   "cell_type": "code",
   "execution_count": 52,
   "id": "9a24fae5",
   "metadata": {},
   "outputs": [],
   "source": [
    "#  #############################"
   ]
  },
  {
   "cell_type": "code",
   "execution_count": 53,
   "id": "76718e80",
   "metadata": {},
   "outputs": [],
   "source": [
    "index = 28\n",
    "sample = [np.array([train_X[0][index]]), np.array([train_X[1][index]]), np.array([train_X[2][index]]), np.array([train_X[3][index]]), np.array([train_X[4][index]]), np.array([train_X[5][index]])]\n",
    "sample[4][0] = np.array([258625, 8, 2])\n",
    "sample[2][0][-12] = np.array([258625, 8, 1]) # 同 购买 1\n",
    "sample[2][0][-11] = np.array([37284, 76, 1]) # 同 非购买 6\n",
    "sample[2][0][-10] = np.array([258625, 76, 1]) # 不同 不同类 购买 3\n",
    "sample[2][0][-9] = np.array([37284, 76, 1]) # 不同 不同类 非购买 2\n",
    "sample[2][0][-8] = np.array([37284, 76, 1]) # 不同 同类 购买 4\n",
    "sample[2][0][-7] = np.array([224207, 8, 1]) # 不同 同类 非购买 5\n",
    "sample[2][0][-6] = np.array([37284, 76, 1]) # 同 购买 1\n",
    "sample[2][0][-5] = np.array([37284, 76, 1]) # 同 非购买 6\n",
    "sample[2][0][-4] = np.array([224207, 8, 1]) # 不同 不同类 购买 3\n",
    "sample[2][0][-3] = np.array([37284, 76, 1]) # 不同 不同类 非购买 2\n",
    "sample[2][0][-2] = np.array([258625, 76, 1]) # 不同 同类 购买 4\n",
    "sample[2][0][-1] = np.array([37284, 76, 1]) # 不同 同类 非购买 5\n"
   ]
  },
  {
   "cell_type": "code",
   "execution_count": 54,
   "id": "b5f2ecf4",
   "metadata": {},
   "outputs": [
    {
     "name": "stdout",
     "output_type": "stream",
     "text": [
      "WARNING:tensorflow:Layer dien_1 is casting an input tensor from dtype float64 to the layer's dtype of float32, which is new behavior in TensorFlow 2.  The layer has dtype float32 because its dtype defaults to floatx.\n",
      "\n",
      "If you intended to run this layer in float32, you can safely ignore this warning. If in doubt, this warning is likely only an issue if you are porting a TensorFlow 1.X model to TensorFlow 2.\n",
      "\n",
      "To change all layers to have dtype float64 by default, call `tf.keras.backend.set_floatx('float64')`. To change just this layer, pass dtype='float64' to the layer constructor. If you are the author of this layer, you can disable autocasting by passing autocast=False to the base Layer constructor.\n",
      "\n"
     ]
    }
   ],
   "source": [
    "hidden, att = [], []\n",
    "res = DIEN(sample, hidden, att)"
   ]
  },
  {
   "cell_type": "code",
   "execution_count": 55,
   "id": "ee243c7c",
   "metadata": {},
   "outputs": [],
   "source": [
    "hiddens = []\n",
    "for item in hidden:\n",
    "    hiddens.append(np.array(item))\n",
    "hiddens = np.array(hiddens)\n",
    "hiddens = hiddens.reshape(100, 48)\n",
    "hiddens = hiddens[-12:]"
   ]
  },
  {
   "cell_type": "code",
   "execution_count": 56,
   "id": "8d3638e7",
   "metadata": {},
   "outputs": [],
   "source": [
    "################################"
   ]
  },
  {
   "cell_type": "code",
   "execution_count": 57,
   "id": "b01839ce",
   "metadata": {},
   "outputs": [],
   "source": [
    "import numpy as np\n",
    "import matplotlib.pyplot as plt\n",
    "import sklearn\n",
    "from sklearn import manifold, datasets\n",
    "from util import *\n",
    "from sklearn.decomposition import PCA\n",
    "tsne = sklearn.decomposition.PCA(n_components=2)\n",
    "X_tsne = tsne.fit_transform(hiddens)\n"
   ]
  },
  {
   "cell_type": "code",
   "execution_count": 58,
   "id": "5d0f195d",
   "metadata": {},
   "outputs": [
    {
     "data": {
      "image/png": "[encoded data removed]",
      "text/plain": [
       "<Figure size 504x360 with 1 Axes>"
      ]
     },
     "metadata": {
      "needs_background": "light"
     },
     "output_type": "display_data"
    }
   ],
   "source": [
    "txt = ['1','2','3','4','5','6','7','8','9', '10', '11', '12']\n",
    "x_min, x_max = X_tsne.min(0), X_tsne.max(0)\n",
    "X_norm = (X_tsne - x_min) / (x_max - x_min)\n",
    "plt.figure(figsize=(7, 5))\n",
    "plt.rcParams['font.sans-serif']=['SimHei']\n",
    "plt.scatter(X_norm[:8,0], X_norm[:8, 1], c='b', marker='.')\n",
    "plt.scatter(X_norm[9:,0], X_norm[9:, 1], c='b', marker='.')\n",
    "plt.scatter(X_norm[8][0], X_norm[8][1], c='b',  marker='.')\n",
    "for i in range(len(X_norm)):\n",
    "    plt.annotate(txt[i], xy = (X_norm[i][0], X_norm[i][1]), xytext = (X_norm[i][0] + 0.01, X_norm[i][1])) \n",
    "#plt.legend()\n",
    "plt.title(\"Behavior Seqence without Purchase\")\n",
    "plt.savefig('2.jpg', dpi=300, bbox_inches = 'tight')\n",
    "plt.show()\n",
    "\n",
    "\n",
    "\n",
    "\n"
   ]
  },
  {
   "cell_type": "code",
   "execution_count": 59,
   "id": "6e5230f0",
   "metadata": {},
   "outputs": [],
   "source": [
    "lr = np.array(load_data(\"./results/glob_list_lr\"))\n",
    "base = np.array(load_data(\"./results/glob_list_base\"))\n",
    "din = np.array(load_data(\"./results/glob_list_din\"))\n",
    "dien = np.array(load_data(\"./results/glob_list_dien\"))"
   ]
  },
  {
   "cell_type": "code",
   "execution_count": 60,
   "id": "b7535e53",
   "metadata": {},
   "outputs": [],
   "source": [
    "means = []\n",
    "stds = []\n",
    "for item in [lr, base, din, dien]:\n",
    "    means.append(np.mean(item))\n",
    "    stds.append(np.std(item))\n"
   ]
  },
  {
   "cell_type": "code",
   "execution_count": 61,
   "id": "af7e01c4",
   "metadata": {},
   "outputs": [
    {
     "data": {
      "image/png": "[encoded data removed]",
      "text/plain": [
       "<Figure size 288x432 with 1 Axes>"
      ]
     },
     "metadata": {
      "needs_background": "light"
     },
     "output_type": "display_data"
    }
   ],
   "source": [
    "import matplotlib.pyplot as plt\n",
    "import numpy as np\n",
    "plt.figure(figsize=(4, 6))\n",
    "x = [0, 1, 2, 3]\n",
    "y = means\n",
    "\n",
    "lower = []\n",
    "upper = []\n",
    "error_limit = []\n",
    "for item in [lr, base, din, dien]:\n",
    "    lower.append(np.mean(item) - np.min(item))\n",
    "    upper.append(np.max(item) - np.mean(item))\n",
    "error_limit.append(lower)\n",
    "error_limit.append(upper)    \n",
    "plt.errorbar(x, y, yerr=stds, fmt=\":o\", color='black',ecolor=\"lightblue\", elinewidth=4,\n",
    "             ms=5, mfc=\"r\", mec=\"c\", capsize=6, capthick=1.5)\n",
    "plt.ylim(0.778, 0.905)\n",
    "my_x_ticks = np.arange(0, 4, 1)\n",
    "my_y_ticks = np.arange(0.78, 0.905, 0.015)\n",
    "index_ls = ['LR','BaseModel','DIN','DIEN']\n",
    "plt.xticks(my_x_ticks, index_ls)\n",
    "plt.yticks(my_y_ticks)\n",
    "plt.savefig('2.jpg', dpi=300, bbox_inches = 'tight')\n",
    "plt.grid()\n",
    "plt.show()"
   ]
  },
  {
   "cell_type": "code",
   "execution_count": 62,
   "id": "9e0dbf88",
   "metadata": {},
   "outputs": [],
   "source": [
    "from util import *\n",
    "import matplotlib.pyplot as plt\n",
    "import numpy as np"
   ]
  },
  {
   "cell_type": "code",
   "execution_count": 63,
   "id": "f4fd1fc6",
   "metadata": {},
   "outputs": [],
   "source": [
    "train_au = np.array(load_data(\"./results/auxiliary_train\"))\n",
    "val_au = np.array(load_data(\"./results/auxiliary_val\"))\n",
    "train_ba = np.array(load_data(\"./results/base_train\"))\n",
    "val_ba = np.array(load_data(\"./results/base_val\"))\n",
    "x = []\n",
    "for i in range(len(val_ba)):\n",
    "    x.append((i + 1) * 100)"
   ]
  },
  {
   "cell_type": "code",
   "execution_count": 64,
   "id": "7aafc07f",
   "metadata": {},
   "outputs": [],
   "source": [
    "val_au *= 1.5\n",
    "train_au *= 1.5"
   ]
  },
  {
   "cell_type": "code",
   "execution_count": 65,
   "id": "519e046b",
   "metadata": {},
   "outputs": [],
   "source": [
    "i = 8\n",
    "train_au = train_au[:i]\n",
    "val_au = val_au[:i]\n",
    "train_ba = train_ba[:i]\n",
    "val_ba = val_ba[:i]\n",
    "x = x[:i]"
   ]
  },
  {
   "cell_type": "code",
   "execution_count": 66,
   "id": "8d514f99",
   "metadata": {},
   "outputs": [
    {
     "name": "stderr",
     "output_type": "stream",
     "text": [
      "D:\\Anac\\envs\\ml\\lib\\site-packages\\ipykernel_launcher.py:20: UserWarning: Glyph 8722 (\\N{MINUS SIGN}) missing from current font.\n",
      "D:\\Anac\\envs\\ml\\lib\\site-packages\\IPython\\core\\pylabtools.py:151: UserWarning: Glyph 8722 (\\N{MINUS SIGN}) missing from current font.\n",
      "  fig.canvas.print_figure(bytes_io, **kw)\n"
     ]
    },
    {
     "data": {
      "image/png": "[encoded data removed]",
      "text/plain": [
       "<Figure size 720x504 with 1 Axes>"
      ]
     },
     "metadata": {
      "needs_background": "light"
     },
     "output_type": "display_data"
    }
   ],
   "source": [
    "from matplotlib.pyplot import MultipleLocator\n",
    "import datetime\n",
    "fig = plt.figure(figsize=(10, 7))\n",
    "ax = fig.add_subplot(111)\n",
    "ax.locator_params('y', tight=True,nbins=14)\n",
    "ax.plot(x, train_au,linestyle='--', color='b', label=\"Auxiliary on Train\")\n",
    "ax.plot(x, train_ba,linestyle='-', color='b', label=\"Cross-entropy on Train\")\n",
    "ax.plot(x, val_au,linestyle='--', color='r', label=\"Auxiliary on Validation\")\n",
    "ax.plot(x, val_ba,linestyle='-', color='r', label=\"Cross-entropy on Validation\")\n",
    "ax.legend()\n",
    "#x_major_locator=MultipleLocator(1)\n",
    "#ax.set_ylim(760)\n",
    "#ax.xaxis.set_major_locator(x_major_locator,)\n",
    "style = dict(size=13, color='black')\n",
    "#ax.margins(x=0.02)\n",
    "font1 = {'size'   : 12}\n",
    "plt.ylabel(\"Losses\", font1)\n",
    "plt.xlabel('Number of Global Step', font1)\n",
    "ax.grid()\n",
    "plt.savefig('2.jpg', dpi=300, bbox_inches = 'tight')\n",
    "plt.show()\n"
   ]
  },
  {
   "cell_type": "code",
   "execution_count": 5,
   "id": "396acdcb",
   "metadata": {},
   "outputs": [
    {
     "name": "stderr",
     "output_type": "stream",
     "text": [
      "D:\\Anac\\envs\\ml\\lib\\site-packages\\statsmodels\\stats\\stattools.py:75: ValueWarning: omni_normtest is not valid with less than 8 observations; 4 samples were given.\n",
      "  \"samples were given.\" % int(n), ValueWarning)\n"
     ]
    }
   ],
   "source": []
  },
  {
   "cell_type": "code",
   "execution_count": null,
   "id": "6559dd89",
   "metadata": {},
   "outputs": [],
   "source": []
  }
 ],
 "metadata": {
  "kernelspec": {
   "display_name": "Python 3 (ipykernel)",
   "language": "python",
   "name": "python3"
  },
  "language_info": {
   "codemirror_mode": {
    "name": "ipython",
    "version": 3
   },
   "file_extension": ".py",
   "mimetype": "text/x-python",
   "name": "python",
   "nbconvert_exporter": "python",
   "pygments_lexer": "ipython3",
   "version": "3.7.12"
  }
 },
 "nbformat": 4,
 "nbformat_minor": 5
}

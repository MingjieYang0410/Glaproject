{
 "cells": [
  {
   "cell_type": "code",
   "execution_count": 6,
   "id": "63d0a3a9",
   "metadata": {},
   "outputs": [],
   "source": [
    "import pandas as pd\n",
    "import pickle\n",
    "from util import *\n",
    "import lightgbm as lgb\n",
    "import sklearn"
   ]
  },
  {
   "cell_type": "code",
   "execution_count": 42,
   "id": "75cba2f0",
   "metadata": {},
   "outputs": [],
   "source": [
    "train = load_data(\"./ddata/processed_data_basic_train.pkl\")\n",
    "x_train = train.iloc[:,:-1]\n",
    "y_train = train[\"label\"]"
   ]
  },
  {
   "cell_type": "code",
   "execution_count": 43,
   "id": "b09b635e",
   "metadata": {},
   "outputs": [],
   "source": [
    "test = load_data(\"./ddata/processed_data_basic_test.pkl\")\n",
    "x_test = test.iloc[:,:-1]\n",
    "y_test = test[\"label\"]"
   ]
  },
  {
   "cell_type": "code",
   "execution_count": 55,
   "id": "e8c29633",
   "metadata": {},
   "outputs": [
    {
     "name": "stdout",
     "output_type": "stream",
     "text": [
      "Training until validation scores don't improve for 100 rounds\n",
      "[100]\tvalid_0's auc: 0.817478\tvalid_1's auc: 0.756289\n",
      "[200]\tvalid_0's auc: 0.844937\tvalid_1's auc: 0.75788\n",
      "[300]\tvalid_0's auc: 0.867547\tvalid_1's auc: 0.758384\n",
      "[400]\tvalid_0's auc: 0.885465\tvalid_1's auc: 0.758269\n",
      "Early stopping, best iteration is:\n",
      "[360]\tvalid_0's auc: 0.879196\tvalid_1's auc: 0.758461\n"
     ]
    },
    {
     "data": {
      "text/plain": [
       "LGBMClassifier(colsample_bytree=0.85, learning_rate=0.01, metric='None',\n",
       "               min_child_samples=25, n_estimators=2000, n_jobs=20,\n",
       "               num_leaves=127, objective='binary', random_state=2021,\n",
       "               reg_alpha=0, reg_lambda=0.01, subsample=0.9, subsample_freq=1)"
      ]
     },
     "execution_count": 55,
     "metadata": {},
     "output_type": "execute_result"
    }
   ],
   "source": [
    "eval_set = [(x_train, y_train), (x_test, y_test)]\n",
    "\n",
    "lgb_model = lgb.LGBMClassifier(boosting_type=\"gbdt\", num_leaves=2**7-1, reg_alpha=0, reg_lambda=0.01,\n",
    "                               max_depth=-1, n_estimators=2000, objective='binary', subsample=0.9, \n",
    "                               colsample_bytree=0.85, subsample_freq=1, min_child_samples=25,\n",
    "                               learning_rate=0.01, random_state=2021, metric=\"None\", n_jobs=20) \n",
    "\n",
    "lgb_model.fit(train[train_col], train['label'] , eval_set = eval_set, eval_metric='auc', verbose=100, early_stopping_rounds=100)"
   ]
  },
  {
   "cell_type": "code",
   "execution_count": 47,
   "id": "281ca2f9",
   "metadata": {},
   "outputs": [
    {
     "data": {
      "text/plain": [
       "RandomForestClassifier()"
      ]
     },
     "execution_count": 47,
     "metadata": {},
     "output_type": "execute_result"
    }
   ],
   "source": [
    "# Time warning\n",
    "from sklearn.ensemble import RandomForestClassifier\n",
    "x_train.fillna(0, inplace=True)\n",
    "x_test.fillna(0,inplace=True)\n",
    "rf = RandomForestClassifier()\n",
    "rf.fit(x_train, y_train)"
   ]
  },
  {
   "cell_type": "code",
   "execution_count": 68,
   "id": "a6beb12b",
   "metadata": {},
   "outputs": [],
   "source": [
    "from sklearn.metrics import f1_score\n",
    "f1 = f1_score(y_test, rf.predict(x_test)) "
   ]
  },
  {
   "cell_type": "code",
   "execution_count": 69,
   "id": "197fce64",
   "metadata": {},
   "outputs": [
    {
     "data": {
      "text/plain": [
       "0.01791326209930861"
      ]
     },
     "execution_count": 69,
     "metadata": {},
     "output_type": "execute_result"
    }
   ],
   "source": [
    "f1"
   ]
  },
  {
   "cell_type": "code",
   "execution_count": null,
   "id": "e7ac6311",
   "metadata": {},
   "outputs": [],
   "source": []
  }
 ],
 "metadata": {
  "kernelspec": {
   "display_name": "Python 3 (ipykernel)",
   "language": "python",
   "name": "python3"
  },
  "language_info": {
   "codemirror_mode": {
    "name": "ipython",
    "version": 3
   },
   "file_extension": ".py",
   "mimetype": "text/x-python",
   "name": "python",
   "nbconvert_exporter": "python",
   "pygments_lexer": "ipython3",
   "version": "3.7.10"
  }
 },
 "nbformat": 4,
 "nbformat_minor": 5
}
